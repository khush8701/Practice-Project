{
 "cells": [
  {
   "cell_type": "markdown",
   "id": "5d5edbd9",
   "metadata": {},
   "source": [
    "### Startoon Lab Coding Assignment"
   ]
  },
  {
   "cell_type": "markdown",
   "id": "0e209056",
   "metadata": {},
   "source": [
    "#### Question"
   ]
  },
  {
   "cell_type": "markdown",
   "id": "720ffdae",
   "metadata": {},
   "source": [
    "1. Could we sum it?\n",
    "\n",
    "Let Ankur has given a large weight W, and a list of smaller weights in an array. He needs to write a code in order to find \"can we form weight W or not, using smaller weights\". He only knows dp solution. Could you write a code solution for him without using dp.\n",
    "\n",
    "Constraint: - list size <= 12\n",
    "\n",
    "Sample Input1: -\n",
    "W = 15\n",
    "list = {4, 3, 5, 6, 4}\n",
    "Output: - True Explanation: - 15 =4 + 5 + 6.\n",
    "\n",
    "Sample Input2: -\n",
    "W = 9\n",
    "list = {4, 1, 3, 7}\n",
    "Output: - False.\n",
    "Explanation: - There is no way to sum up 7.\n"
   ]
  },
  {
   "cell_type": "markdown",
   "id": "a3671117",
   "metadata": {},
   "source": [
    "#### Answer"
   ]
  },
  {
   "cell_type": "code",
   "execution_count": 1,
   "id": "1adb15eb",
   "metadata": {},
   "outputs": [],
   "source": [
    "def form_weight(W, weights):    #defining a function taking the value of 'W' and an array of weights\n",
    "    if W==0:           \n",
    "        return True             #checking the base case of W=0, means we have successfully create the weight and return True\n",
    "    \n",
    "    j=len(weights)\n",
    "    for i in range(j):\n",
    "        if weights[i]==W:       #We iterate through each weight in the array. If the weight is equal to W, it means we have successfully formed the weight, so we return True.\n",
    "            return True \n",
    "        elif weights[i]<W:      #If the weight is less than W, we subtract the weight from W to get the remaining weight, and remove the current weight from the array of weights.\n",
    "            remaining_weight=W-weights[i]\n",
    "            remaining_weights=weights[:i]+weights[i+1:]\n",
    "            if form_weight(remaining_weight,remaining_weights):\n",
    "                return True\n",
    "    \n",
    "    return False"
   ]
  },
  {
   "cell_type": "code",
   "execution_count": 2,
   "id": "e281973b",
   "metadata": {},
   "outputs": [
    {
     "data": {
      "text/plain": [
       "True"
      ]
     },
     "execution_count": 2,
     "metadata": {},
     "output_type": "execute_result"
    }
   ],
   "source": [
    "form_weight(23,[4,6,2,7,8])"
   ]
  },
  {
   "cell_type": "code",
   "execution_count": 3,
   "id": "1cb1f9eb",
   "metadata": {},
   "outputs": [
    {
     "data": {
      "text/plain": [
       "False"
      ]
     },
     "execution_count": 3,
     "metadata": {},
     "output_type": "execute_result"
    }
   ],
   "source": [
    "form_weight(9,[4,1,3,7])"
   ]
  },
  {
   "cell_type": "code",
   "execution_count": null,
   "id": "8b9c62e1",
   "metadata": {},
   "outputs": [],
   "source": []
  }
 ],
 "metadata": {
  "kernelspec": {
   "display_name": "Python 3 (ipykernel)",
   "language": "python",
   "name": "python3"
  },
  "language_info": {
   "codemirror_mode": {
    "name": "ipython",
    "version": 3
   },
   "file_extension": ".py",
   "mimetype": "text/x-python",
   "name": "python",
   "nbconvert_exporter": "python",
   "pygments_lexer": "ipython3",
   "version": "3.9.7"
  }
 },
 "nbformat": 4,
 "nbformat_minor": 5
}
